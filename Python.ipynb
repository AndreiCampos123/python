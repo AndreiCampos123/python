{
  "nbformat": 4,
  "nbformat_minor": 0,
  "metadata": {
    "colab": {
      "provenance": [],
      "authorship_tag": "ABX9TyNqy/3dLc/CW05WLiClvI6H",
      "include_colab_link": true
    },
    "kernelspec": {
      "name": "python3",
      "display_name": "Python 3"
    },
    "language_info": {
      "name": "python"
    }
  },
  "cells": [
    {
      "cell_type": "markdown",
      "metadata": {
        "id": "view-in-github",
        "colab_type": "text"
      },
      "source": [
        "<a href=\"https://colab.research.google.com/github/AndreiCampos123/python/blob/main/Python.ipynb\" target=\"_parent\"><img src=\"https://colab.research.google.com/assets/colab-badge.svg\" alt=\"Open In Colab\"/></a>"
      ]
    },
    {
      "cell_type": "code",
      "execution_count": 1,
      "metadata": {
        "id": "RmBUYZTmU-PS",
        "colab": {
          "base_uri": "https://localhost:8080/"
        },
        "outputId": "3172b0c4-ac41-4a7d-b03d-a6224a6486b9"
      },
      "outputs": [
        {
          "output_type": "stream",
          "name": "stdout",
          "text": [
            "1 competição de programação da Start\n"
          ]
        }
      ],
      "source": [
        "print(\"1 competição de programação da Start\")"
      ]
    },
    {
      "cell_type": "code",
      "source": [
        "ano = \"11\"\n",
        "\n",
        "print(ano, \"Competição de progamação da Start\")"
      ],
      "metadata": {
        "colab": {
          "base_uri": "https://localhost:8080/"
        },
        "id": "gYYGVtvX0Hty",
        "outputId": "c51bed29-b348-4735-ad48-0d5f85853beb"
      },
      "execution_count": 2,
      "outputs": [
        {
          "output_type": "stream",
          "name": "stdout",
          "text": [
            "11 Competição de progamação da Start\n"
          ]
        }
      ]
    },
    {
      "cell_type": "code",
      "source": [
        "print(f\"{ano} Competição de programa da Start\")"
      ],
      "metadata": {
        "id": "4zSzNk0R1XOK",
        "outputId": "efdef4a5-4b5c-4ff3-fab3-ce547311c7f1",
        "colab": {
          "base_uri": "https://localhost:8080/"
        }
      },
      "execution_count": 3,
      "outputs": [
        {
          "output_type": "stream",
          "name": "stdout",
          "text": [
            "11 Competição de programa da Start\n"
          ]
        }
      ]
    }
  ]
}